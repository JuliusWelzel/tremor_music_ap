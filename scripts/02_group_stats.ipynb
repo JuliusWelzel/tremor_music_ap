{
 "cells": [
  {
   "cell_type": "code",
   "execution_count": 20,
   "metadata": {},
   "outputs": [],
   "source": [
    "%reload_ext autoreload\n",
    "%autoreload\n",
    "\n",
    "%reload_ext autoreload\n",
    "%autoreload 2\n",
    "import os\n",
    "from pathlib import Path\n",
    "import numpy as np\n",
    "import matplotlib.pyplot as plt\n",
    "from scipy import stats\n",
    "import seaborn as sns\n",
    "import pandas as pd\n",
    "from tqdm import tqdm\n",
    "\n",
    "# Increase the resolution of all the plots below\n",
    "plt.rcParams.update({\"figure.dpi\": 200,\"figure.facecolor\":\"w\",\"figure.figsize\": (15,10)})\n",
    "\n",
    "# import helper functions\n",
    "from src.utls import compute_repeated_stats"
   ]
  },
  {
   "cell_type": "code",
   "execution_count": 21,
   "metadata": {},
   "outputs": [
    {
     "name": "stdout",
     "output_type": "stream",
     "text": [
      "c:\\Users\\User\\Desktop\\kiel\\tremor_music_ap\\data\n"
     ]
    }
   ],
   "source": [
    "# (import) helper functions\n",
    "dir_proj = Path(\"__file__\").absolute().parents[1]\n",
    "dir_rawdata = Path.joinpath(dir_proj, \"data\")\n",
    "dir_prep = Path.joinpath(dir_proj,\"results\")\n",
    "print(dir_rawdata)\n"
   ]
  },
  {
   "cell_type": "code",
   "execution_count": 22,
   "metadata": {},
   "outputs": [],
   "source": [
    "# load data\n",
    "pd.read_csv(Path.joinpath(dir_prep,\"single_subj_pow.csv\"))\n",
    "peaks = pd.read_csv(Path.joinpath(dir_prep,\"single_subj_agg.csv\"))\n",
    "group_asgn = pd.read_excel(Path.joinpath(dir_rawdata,\"group_assign.xlsx\"), index_col=None)"
   ]
  },
  {
   "cell_type": "code",
   "execution_count": 23,
   "metadata": {},
   "outputs": [
    {
     "data": {
      "text/html": [
       "<div>\n",
       "<style scoped>\n",
       "    .dataframe tbody tr th:only-of-type {\n",
       "        vertical-align: middle;\n",
       "    }\n",
       "\n",
       "    .dataframe tbody tr th {\n",
       "        vertical-align: top;\n",
       "    }\n",
       "\n",
       "    .dataframe thead th {\n",
       "        text-align: right;\n",
       "    }\n",
       "</style>\n",
       "<table border=\"1\" class=\"dataframe\">\n",
       "  <thead>\n",
       "    <tr style=\"text-align: right;\">\n",
       "      <th></th>\n",
       "      <th>id</th>\n",
       "      <th>visit</th>\n",
       "      <th>task</th>\n",
       "      <th>axis</th>\n",
       "      <th>peak frequency</th>\n",
       "      <th>peak amplitude</th>\n",
       "    </tr>\n",
       "  </thead>\n",
       "  <tbody>\n",
       "    <tr>\n",
       "      <th>0</th>\n",
       "      <td>BS0068</td>\n",
       "      <td>Inital</td>\n",
       "      <td>Standing flexed</td>\n",
       "      <td>x</td>\n",
       "      <td>5.865385</td>\n",
       "      <td>9544.121503</td>\n",
       "    </tr>\n",
       "    <tr>\n",
       "      <th>1</th>\n",
       "      <td>BS0068</td>\n",
       "      <td>Inital</td>\n",
       "      <td>Standing flexed</td>\n",
       "      <td>y</td>\n",
       "      <td>5.865385</td>\n",
       "      <td>373.978677</td>\n",
       "    </tr>\n",
       "    <tr>\n",
       "      <th>2</th>\n",
       "      <td>BS0068</td>\n",
       "      <td>Inital</td>\n",
       "      <td>Standing flexed</td>\n",
       "      <td>z</td>\n",
       "      <td>5.865385</td>\n",
       "      <td>162159.434519</td>\n",
       "    </tr>\n",
       "    <tr>\n",
       "      <th>3</th>\n",
       "      <td>BS0068</td>\n",
       "      <td>Inital</td>\n",
       "      <td>Sitting flexed</td>\n",
       "      <td>x</td>\n",
       "      <td>5.288462</td>\n",
       "      <td>3445.162849</td>\n",
       "    </tr>\n",
       "    <tr>\n",
       "      <th>4</th>\n",
       "      <td>BS0068</td>\n",
       "      <td>Inital</td>\n",
       "      <td>Sitting flexed</td>\n",
       "      <td>y</td>\n",
       "      <td>5.000000</td>\n",
       "      <td>450.935236</td>\n",
       "    </tr>\n",
       "  </tbody>\n",
       "</table>\n",
       "</div>"
      ],
      "text/plain": [
       "       id   visit             task axis  peak frequency  peak amplitude\n",
       "0  BS0068  Inital  Standing flexed    x        5.865385     9544.121503\n",
       "1  BS0068  Inital  Standing flexed    y        5.865385      373.978677\n",
       "2  BS0068  Inital  Standing flexed    z        5.865385   162159.434519\n",
       "3  BS0068  Inital   Sitting flexed    x        5.288462     3445.162849\n",
       "4  BS0068  Inital   Sitting flexed    y        5.000000      450.935236"
      ]
     },
     "execution_count": 23,
     "metadata": {},
     "output_type": "execute_result"
    }
   ],
   "source": [
    "# define cfg vars\n",
    "cfg_srate = 100\n",
    "cfg_group = {1:\"Standard & exp. music\", 2:\"Standard & unspecific music\", 3: \"Only Standard\", 4: \"Placebo\"}\n",
    "cfg_trial = {1: \"Standing flexed\", 2:\"Sitting\", 3: \"Sitting relaxed\"}\n",
    "cfg_visit = {1:\"Inital\", 2:\"14-days\"}\n",
    "\n",
    "idx_axis_oi = peaks[\"axis\"] == \"y\"\n",
    "idx_task_oi = peaks[\"task\"] == \"Sitting flexed\"\n",
    "idx_visit_oi = peaks[\"visit\"] != \"Follow-up\"\n",
    "peaks.head()"
   ]
  },
  {
   "cell_type": "code",
   "execution_count": 24,
   "metadata": {},
   "outputs": [
    {
     "name": "stderr",
     "output_type": "stream",
     "text": [
      "C:\\Users\\User\\AppData\\Local\\Temp\\ipykernel_11352\\4281376367.py:17: SettingWithCopyWarning: \n",
      "A value is trying to be set on a copy of a slice from a DataFrame\n",
      "\n",
      "See the caveats in the documentation: https://pandas.pydata.org/pandas-docs/stable/user_guide/indexing.html#returning-a-view-versus-a-copy\n",
      "  sumed_axis[\"Norm amp\"][i] = sumed_axis[\"peak amplitude\"][i] / np.nanmax(sumed_axis[\"peak amplitude\"][idx_id])\n",
      "C:\\Users\\User\\AppData\\Local\\Temp\\ipykernel_11352\\4281376367.py:18: SettingWithCopyWarning: \n",
      "A value is trying to be set on a copy of a slice from a DataFrame\n",
      "\n",
      "See the caveats in the documentation: https://pandas.pydata.org/pandas-docs/stable/user_guide/indexing.html#returning-a-view-versus-a-copy\n",
      "  sumed_axis[\"Norm freq\"][i] = sumed_axis[\"peak frequency\"][i] / np.nanmax(sumed_axis[\"peak frequency\"][idx_id])\n"
     ]
    }
   ],
   "source": [
    "# assign group\n",
    "group = pd.melt(group_asgn, value_name=\"id\").dropna()\n",
    "peaks_group = pd.merge(peaks, group, on=\"id\", how=\"outer\")\n",
    "\n",
    "idx_visit_oi = peaks_group[\"visit\"] != \"Follow-up\"\n",
    "data_oi = peaks_group[idx_visit_oi]\n",
    "data_oi = data_oi.groupby('id').filter(lambda x: {\"Inital\",\"14-days\"}.issubset(x['visit']))\n",
    "data_oi = data_oi.rename(columns={\"variable\": \"group\"})\n",
    "sumed_axis = data_oi.groupby(['id','visit','group','task'],as_index=False)[[\"peak amplitude\",\"peak frequency\"]].sum()\n",
    "\n",
    "n_rows = sumed_axis.shape[0]\n",
    "sumed_axis[\"Norm amp\"] = np.nan\n",
    "sumed_axis[\"Norm freq\"] = np.nan\n",
    "\n",
    "for i in range(0,n_rows):\n",
    "    idx_id = sumed_axis[\"id\"].str.match(sumed_axis[\"id\"][i])\n",
    "    sumed_axis[\"Norm amp\"][i] = sumed_axis[\"peak amplitude\"][i] / np.nanmax(sumed_axis[\"peak amplitude\"][idx_id])\n",
    "    sumed_axis[\"Norm freq\"][i] = sumed_axis[\"peak frequency\"][i] / np.nanmax(sumed_axis[\"peak frequency\"][idx_id])\n",
    "    \n",
    "sumed_axis.to_csv(Path.joinpath(dir_prep,\"group_anova.csv\"))"
   ]
  },
  {
   "cell_type": "code",
   "execution_count": 25,
   "metadata": {},
   "outputs": [
    {
     "name": "stdout",
     "output_type": "stream",
     "text": [
      "Diff amp is 0.039; Diff freq is 0.549;\n"
     ]
    },
    {
     "name": "stderr",
     "output_type": "stream",
     "text": [
      "c:\\users\\user\\desktop\\kiel\\tremor_music_ap\\src\\utls.py:106: SettingWithCopyWarning: \n",
      "A value is trying to be set on a copy of a slice from a DataFrame\n",
      "\n",
      "See the caveats in the documentation: https://pandas.pydata.org/pandas-docs/stable/user_guide/indexing.html#returning-a-view-versus-a-copy\n",
      "  sumed_axis[\"Norm amp\"][i] = sumed_axis[\"peak amplitude\"][i] / np.sum(sumed_axis[\"peak amplitude\"][idx_id])\n",
      "c:\\users\\user\\desktop\\kiel\\tremor_music_ap\\src\\utls.py:107: SettingWithCopyWarning: \n",
      "A value is trying to be set on a copy of a slice from a DataFrame\n",
      "\n",
      "See the caveats in the documentation: https://pandas.pydata.org/pandas-docs/stable/user_guide/indexing.html#returning-a-view-versus-a-copy\n",
      "  sumed_axis[\"Norm freq\"][i] = sumed_axis[\"peak frequency\"][i] / np.sum(sumed_axis[\"peak frequency\"][idx_id])\n"
     ]
    }
   ],
   "source": [
    "t_amp,p_amp, t_freq, p_freq = compute_repeated_stats(peaks,\"Sitting relaxed\")\n",
    "print(f\"Diff amp is {p_amp:.3f}; Diff freq is {p_freq:.3f};\")"
   ]
  },
  {
   "cell_type": "markdown",
   "metadata": {},
   "source": [
    "## rmANOVA split for task"
   ]
  },
  {
   "cell_type": "code",
   "execution_count": 37,
   "metadata": {},
   "outputs": [
    {
     "name": "stderr",
     "output_type": "stream",
     "text": [
      "C:\\Users\\User\\AppData\\Local\\Temp\\ipykernel_11352\\3129190274.py:4: FutureWarning: The frame.append method is deprecated and will be removed from pandas in a future version. Use pandas.concat instead.\n",
      "  dat_sit_relx = dat_sit_relx.append(dat_sit_relx[-6:-4],ignore_index=True)\n"
     ]
    }
   ],
   "source": [
    "from statsmodels.stats.anova import AnovaRM\n",
    "\n",
    "dat_sit_relx = sumed_axis[sumed_axis[\"task\"] == \"Sitting relaxed\"]\n",
    "dat_sit_relx = dat_sit_relx.append(dat_sit_relx[-6:-4],ignore_index=True)\n"
   ]
  },
  {
   "cell_type": "code",
   "execution_count": 42,
   "metadata": {},
   "outputs": [
    {
     "data": {
      "text/plain": [
       "visit    group             \n",
       "14-days  CONTROL GROUP 1       10\n",
       "         CONTROL GROUP 2       10\n",
       "         EXPERIMENTAL GROUP    10\n",
       "         PLACEBO GROUP         10\n",
       "Inital   CONTROL GROUP 1       10\n",
       "         CONTROL GROUP 2       10\n",
       "         EXPERIMENTAL GROUP    10\n",
       "         PLACEBO GROUP         10\n",
       "Name: id, dtype: int64"
      ]
     },
     "execution_count": 42,
     "metadata": {},
     "output_type": "execute_result"
    }
   ],
   "source": [
    "#check if groups are balanced for statsmodel\n",
    "dat_sit_relx.groupby([\"visit\",\"group\"])[\"id\"].count()"
   ]
  },
  {
   "cell_type": "code",
   "execution_count": 41,
   "metadata": {},
   "outputs": [
    {
     "ename": "ValueError",
     "evalue": "The data set contains more than one observation per subject and cell. Either aggregate the data manually, or pass the `aggregate_func` parameter.",
     "output_type": "error",
     "traceback": [
      "\u001b[1;31m---------------------------------------------------------------------------\u001b[0m",
      "\u001b[1;31mValueError\u001b[0m                                Traceback (most recent call last)",
      "Cell \u001b[1;32mIn [41], line 1\u001b[0m\n\u001b[1;32m----> 1\u001b[0m aovrm2way \u001b[39m=\u001b[39m AnovaRM(dat_sit_relx, \u001b[39m'\u001b[39;49m\u001b[39mNorm amp\u001b[39;49m\u001b[39m'\u001b[39;49m, \u001b[39m'\u001b[39;49m\u001b[39mid\u001b[39;49m\u001b[39m'\u001b[39;49m, within\u001b[39m=\u001b[39;49m[\u001b[39m'\u001b[39;49m\u001b[39mvisit\u001b[39;49m\u001b[39m'\u001b[39;49m])\n\u001b[0;32m      2\u001b[0m res2way \u001b[39m=\u001b[39m aovrm2way\u001b[39m.\u001b[39mfit()\n\u001b[0;32m      4\u001b[0m \u001b[39mprint\u001b[39m(res2way)\n",
      "File \u001b[1;32mc:\\Users\\User\\anaconda3\\envs\\venv_tremor_music\\lib\\site-packages\\statsmodels\\stats\\anova.py:503\u001b[0m, in \u001b[0;36mAnovaRM.__init__\u001b[1;34m(self, data, depvar, subject, within, between, aggregate_func)\u001b[0m\n\u001b[0;32m    499\u001b[0m     \u001b[39melse\u001b[39;00m:\n\u001b[0;32m    500\u001b[0m         msg \u001b[39m=\u001b[39m (\u001b[39m'\u001b[39m\u001b[39mThe data set contains more than one observation per \u001b[39m\u001b[39m'\u001b[39m\n\u001b[0;32m    501\u001b[0m                \u001b[39m'\u001b[39m\u001b[39msubject and cell. Either aggregate the data manually, \u001b[39m\u001b[39m'\u001b[39m\n\u001b[0;32m    502\u001b[0m                \u001b[39m'\u001b[39m\u001b[39mor pass the `aggregate_func` parameter.\u001b[39m\u001b[39m'\u001b[39m)\n\u001b[1;32m--> 503\u001b[0m         \u001b[39mraise\u001b[39;00m \u001b[39mValueError\u001b[39;00m(msg)\n\u001b[0;32m    505\u001b[0m \u001b[39mself\u001b[39m\u001b[39m.\u001b[39m_check_data_balanced()\n",
      "\u001b[1;31mValueError\u001b[0m: The data set contains more than one observation per subject and cell. Either aggregate the data manually, or pass the `aggregate_func` parameter."
     ]
    }
   ],
   "source": [
    "aovrm2way = AnovaRM(dat_sit_relx, 'Norm amp', 'id', within=['visit'])\n",
    "res2way = aovrm2way.fit()\n",
    "\n",
    "print(res2way)\n",
    "\n",
    "n = dat_sit_relx[\"id\"].nunique()\n",
    "print(f\"A one-way repeated measures ANOVA was conducted on {n:2d} individuals to examine the effect of music therapy on tremor amplitude.\")\n",
    "print(f\"Results showed that the type of drug used lead to statistically significant differences in response time (F(3, 12) = 24.75887, p < 0.001\")"
   ]
  },
  {
   "cell_type": "code",
   "execution_count": null,
   "metadata": {},
   "outputs": [
    {
     "name": "stderr",
     "output_type": "stream",
     "text": [
      "c:\\Users\\User\\anaconda3\\envs\\venv_tremor_music\\lib\\site-packages\\pingouin\\parametric.py:742: RuntimeWarning: invalid value encountered in double_scalars\n",
      "  f_a = ms_a / ms_as\n",
      "c:\\Users\\User\\anaconda3\\envs\\venv_tremor_music\\lib\\site-packages\\pingouin\\parametric.py:743: RuntimeWarning: invalid value encountered in double_scalars\n",
      "  f_b = ms_b / ms_bs\n",
      "c:\\Users\\User\\anaconda3\\envs\\venv_tremor_music\\lib\\site-packages\\pingouin\\parametric.py:744: RuntimeWarning: invalid value encountered in double_scalars\n",
      "  f_ab = ms_ab / ms_abs\n",
      "c:\\Users\\User\\anaconda3\\envs\\venv_tremor_music\\lib\\site-packages\\pingouin\\parametric.py:759: RuntimeWarning: invalid value encountered in double_scalars\n",
      "  ef_a = ss_a / (ss_a + ss_s + ss_as + ss_bs + ss_abs)\n",
      "c:\\Users\\User\\anaconda3\\envs\\venv_tremor_music\\lib\\site-packages\\pingouin\\parametric.py:760: RuntimeWarning: invalid value encountered in double_scalars\n",
      "  ef_b = ss_b / (ss_b + ss_s + ss_as + ss_bs + ss_abs)\n",
      "c:\\Users\\User\\anaconda3\\envs\\venv_tremor_music\\lib\\site-packages\\pingouin\\parametric.py:761: RuntimeWarning: invalid value encountered in double_scalars\n",
      "  ef_ab = ss_ab / (ss_ab + ss_s + ss_as + ss_bs + ss_abs)\n",
      "c:\\Users\\User\\anaconda3\\envs\\venv_tremor_music\\lib\\site-packages\\numpy\\lib\\function_base.py:518: RuntimeWarning: Mean of empty slice.\n",
      "  avg = a.mean(axis, **keepdims_kw)\n",
      "c:\\Users\\User\\anaconda3\\envs\\venv_tremor_music\\lib\\site-packages\\numpy\\core\\_methods.py:182: RuntimeWarning: invalid value encountered in divide\n",
      "  ret = um.true_divide(\n",
      "c:\\Users\\User\\anaconda3\\envs\\venv_tremor_music\\lib\\site-packages\\pandas\\core\\frame.py:9688: RuntimeWarning: Degrees of freedom <= 0 for slice\n",
      "  base_cov = np.cov(mat.T, ddof=ddof)\n",
      "c:\\Users\\User\\anaconda3\\envs\\venv_tremor_music\\lib\\site-packages\\numpy\\lib\\function_base.py:2704: RuntimeWarning: divide by zero encountered in divide\n",
      "  c *= np.true_divide(1, fact)\n",
      "c:\\Users\\User\\anaconda3\\envs\\venv_tremor_music\\lib\\site-packages\\numpy\\lib\\function_base.py:2704: RuntimeWarning: invalid value encountered in multiply\n",
      "  c *= np.true_divide(1, fact)\n"
     ]
    }
   ],
   "source": [
    "dat_sit_relx = sumed_axis[sumed_axis[\"task\"] == \"Sitting relaxed\"]\n",
    "aov_sit_relx = pg.rm_anova(dv='Norm amp', within=['visit','group'],\n",
    "                  subject='id', data=dat_sit_relx)"
   ]
  },
  {
   "cell_type": "code",
   "execution_count": null,
   "metadata": {},
   "outputs": [
    {
     "data": {
      "text/plain": [
       "39"
      ]
     },
     "execution_count": 29,
     "metadata": {},
     "output_type": "execute_result"
    }
   ],
   "source": [
    "dat_sit_relx[\"id\"].nunique()"
   ]
  },
  {
   "cell_type": "code",
   "execution_count": null,
   "metadata": {},
   "outputs": [
    {
     "data": {
      "text/html": [
       "<div>\n",
       "<style scoped>\n",
       "    .dataframe tbody tr th:only-of-type {\n",
       "        vertical-align: middle;\n",
       "    }\n",
       "\n",
       "    .dataframe tbody tr th {\n",
       "        vertical-align: top;\n",
       "    }\n",
       "\n",
       "    .dataframe thead th {\n",
       "        text-align: right;\n",
       "    }\n",
       "</style>\n",
       "<table border=\"1\" class=\"dataframe\">\n",
       "  <thead>\n",
       "    <tr style=\"text-align: right;\">\n",
       "      <th></th>\n",
       "      <th>Source</th>\n",
       "      <th>ddof1</th>\n",
       "      <th>ddof2</th>\n",
       "      <th>F</th>\n",
       "      <th>p-unc</th>\n",
       "      <th>ng2</th>\n",
       "      <th>eps</th>\n",
       "    </tr>\n",
       "  </thead>\n",
       "  <tbody>\n",
       "    <tr>\n",
       "      <th>0</th>\n",
       "      <td>visit</td>\n",
       "      <td>1</td>\n",
       "      <td>38</td>\n",
       "      <td>3.346308</td>\n",
       "      <td>0.075211</td>\n",
       "      <td>0.042524</td>\n",
       "      <td>1.0</td>\n",
       "    </tr>\n",
       "  </tbody>\n",
       "</table>\n",
       "</div>"
      ],
      "text/plain": [
       "  Source  ddof1  ddof2         F     p-unc       ng2  eps\n",
       "0  visit      1     38  3.346308  0.075211  0.042524  1.0"
      ]
     },
     "execution_count": 22,
     "metadata": {},
     "output_type": "execute_result"
    }
   ],
   "source": [
    "dat_sit_flex = sumed_axis[sumed_axis[\"task\"] == \"Sitting flexed\"]\n",
    "aov_sit_flex = pg.rm_anova(dv='Norm amp', within=['visit'],\n",
    "                  subject='id', data=dat_sit_flex)\n",
    "\n",
    "aov_sit_flex"
   ]
  },
  {
   "cell_type": "code",
   "execution_count": null,
   "metadata": {},
   "outputs": [
    {
     "data": {
      "text/html": [
       "<div>\n",
       "<style scoped>\n",
       "    .dataframe tbody tr th:only-of-type {\n",
       "        vertical-align: middle;\n",
       "    }\n",
       "\n",
       "    .dataframe tbody tr th {\n",
       "        vertical-align: top;\n",
       "    }\n",
       "\n",
       "    .dataframe thead th {\n",
       "        text-align: right;\n",
       "    }\n",
       "</style>\n",
       "<table border=\"1\" class=\"dataframe\">\n",
       "  <thead>\n",
       "    <tr style=\"text-align: right;\">\n",
       "      <th></th>\n",
       "      <th>Source</th>\n",
       "      <th>ddof1</th>\n",
       "      <th>ddof2</th>\n",
       "      <th>F</th>\n",
       "      <th>p-unc</th>\n",
       "      <th>ng2</th>\n",
       "      <th>eps</th>\n",
       "    </tr>\n",
       "  </thead>\n",
       "  <tbody>\n",
       "    <tr>\n",
       "      <th>0</th>\n",
       "      <td>visit</td>\n",
       "      <td>1</td>\n",
       "      <td>38</td>\n",
       "      <td>0.793559</td>\n",
       "      <td>0.378632</td>\n",
       "      <td>0.009062</td>\n",
       "      <td>1.0</td>\n",
       "    </tr>\n",
       "  </tbody>\n",
       "</table>\n",
       "</div>"
      ],
      "text/plain": [
       "  Source  ddof1  ddof2         F     p-unc       ng2  eps\n",
       "0  visit      1     38  0.793559  0.378632  0.009062  1.0"
      ]
     },
     "execution_count": 21,
     "metadata": {},
     "output_type": "execute_result"
    }
   ],
   "source": [
    "dat_stand_flex = sumed_axis[sumed_axis[\"task\"] == \"Standing flexed\"]\n",
    "aov_sand_flex = pg.rm_anova(dv='Norm amp', within=['visit'],\n",
    "                  subject='id', data=dat_stand_flex)\n",
    "\n",
    "aov_sand_flex"
   ]
  }
 ],
 "metadata": {
  "kernelspec": {
   "display_name": "Python 3.10.6 ('venv_tremor_music')",
   "language": "python",
   "name": "python3"
  },
  "language_info": {
   "codemirror_mode": {
    "name": "ipython",
    "version": 3
   },
   "file_extension": ".py",
   "mimetype": "text/x-python",
   "name": "python",
   "nbconvert_exporter": "python",
   "pygments_lexer": "ipython3",
   "version": "3.10.6"
  },
  "orig_nbformat": 4,
  "vscode": {
   "interpreter": {
    "hash": "5db139f2e53421a5bfb46b10c76a670b4a62a93b7a9066822b72e86fa1523537"
   }
  }
 },
 "nbformat": 4,
 "nbformat_minor": 2
}
