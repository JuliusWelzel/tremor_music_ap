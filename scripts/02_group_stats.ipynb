{
 "cells": [
  {
   "cell_type": "code",
   "execution_count": 2,
   "metadata": {},
   "outputs": [],
   "source": [
    "%reload_ext autoreload\n",
    "%autoreload\n",
    "\n",
    "%reload_ext autoreload\n",
    "%autoreload 2\n",
    "import os\n",
    "from pathlib import Path\n",
    "import numpy as np\n",
    "import matplotlib.pyplot as plt\n",
    "from scipy import stats\n",
    "import seaborn as sns\n",
    "import pandas as pd\n",
    "from tqdm import tqdm\n",
    "\n",
    "# Increase the resolution of all the plots below\n",
    "plt.rcParams.update({\"figure.dpi\": 200,\"figure.facecolor\":\"w\",\"figure.figsize\": (15,10)})\n",
    "\n",
    "# import helper functions\n",
    "from src.utls import compute_repeated_stats"
   ]
  },
  {
   "cell_type": "code",
   "execution_count": 3,
   "metadata": {},
   "outputs": [
    {
     "name": "stdout",
     "output_type": "stream",
     "text": [
      "c:\\Users\\User\\Desktop\\kiel\\tremor_music_ap\\data\n"
     ]
    }
   ],
   "source": [
    "# (import) helper functions\n",
    "dir_proj = Path(\"__file__\").absolute().parents[1]\n",
    "dir_rawdata = Path.joinpath(dir_proj, \"data\")\n",
    "dir_prep = Path.joinpath(dir_proj,\"results\")\n",
    "print(dir_rawdata)\n"
   ]
  },
  {
   "cell_type": "code",
   "execution_count": 26,
   "metadata": {},
   "outputs": [],
   "source": [
    "# load data\n",
    "pd.read_csv(Path.joinpath(dir_prep,\"single_subj_pow.csv\"))\n",
    "peaks = pd.read_csv(Path.joinpath(dir_prep,\"single_subj_agg.csv\"))\n",
    "group_asgn = pd.read_excel(Path.joinpath(dir_rawdata,\"group_assign.xlsx\"), index_col=None)"
   ]
  },
  {
   "cell_type": "code",
   "execution_count": 178,
   "metadata": {},
   "outputs": [
    {
     "data": {
      "text/html": [
       "<div>\n",
       "<style scoped>\n",
       "    .dataframe tbody tr th:only-of-type {\n",
       "        vertical-align: middle;\n",
       "    }\n",
       "\n",
       "    .dataframe tbody tr th {\n",
       "        vertical-align: top;\n",
       "    }\n",
       "\n",
       "    .dataframe thead th {\n",
       "        text-align: right;\n",
       "    }\n",
       "</style>\n",
       "<table border=\"1\" class=\"dataframe\">\n",
       "  <thead>\n",
       "    <tr style=\"text-align: right;\">\n",
       "      <th></th>\n",
       "      <th>id</th>\n",
       "      <th>visit</th>\n",
       "      <th>task</th>\n",
       "      <th>axis</th>\n",
       "      <th>peak frequency</th>\n",
       "      <th>peak amplitude</th>\n",
       "    </tr>\n",
       "  </thead>\n",
       "  <tbody>\n",
       "    <tr>\n",
       "      <th>0</th>\n",
       "      <td>BS0068</td>\n",
       "      <td>Inital</td>\n",
       "      <td>Standing flexed</td>\n",
       "      <td>x</td>\n",
       "      <td>5.865385</td>\n",
       "      <td>9544.121503</td>\n",
       "    </tr>\n",
       "    <tr>\n",
       "      <th>1</th>\n",
       "      <td>BS0068</td>\n",
       "      <td>Inital</td>\n",
       "      <td>Standing flexed</td>\n",
       "      <td>y</td>\n",
       "      <td>5.865385</td>\n",
       "      <td>373.978677</td>\n",
       "    </tr>\n",
       "    <tr>\n",
       "      <th>2</th>\n",
       "      <td>BS0068</td>\n",
       "      <td>Inital</td>\n",
       "      <td>Standing flexed</td>\n",
       "      <td>z</td>\n",
       "      <td>5.865385</td>\n",
       "      <td>162159.434519</td>\n",
       "    </tr>\n",
       "    <tr>\n",
       "      <th>3</th>\n",
       "      <td>BS0068</td>\n",
       "      <td>Inital</td>\n",
       "      <td>Sitting flexed</td>\n",
       "      <td>x</td>\n",
       "      <td>5.288462</td>\n",
       "      <td>3445.162849</td>\n",
       "    </tr>\n",
       "    <tr>\n",
       "      <th>4</th>\n",
       "      <td>BS0068</td>\n",
       "      <td>Inital</td>\n",
       "      <td>Sitting flexed</td>\n",
       "      <td>y</td>\n",
       "      <td>5.000000</td>\n",
       "      <td>450.935236</td>\n",
       "    </tr>\n",
       "  </tbody>\n",
       "</table>\n",
       "</div>"
      ],
      "text/plain": [
       "       id   visit             task axis  peak frequency  peak amplitude\n",
       "0  BS0068  Inital  Standing flexed    x        5.865385     9544.121503\n",
       "1  BS0068  Inital  Standing flexed    y        5.865385      373.978677\n",
       "2  BS0068  Inital  Standing flexed    z        5.865385   162159.434519\n",
       "3  BS0068  Inital   Sitting flexed    x        5.288462     3445.162849\n",
       "4  BS0068  Inital   Sitting flexed    y        5.000000      450.935236"
      ]
     },
     "execution_count": 178,
     "metadata": {},
     "output_type": "execute_result"
    }
   ],
   "source": [
    "# define cfg vars\n",
    "cfg_srate = 100\n",
    "cfg_group = {1:\"Standard & exp. music\", 2:\"Standard & unspecific music\", 3: \"Only Standard\", 4: \"Placebo\"}\n",
    "cfg_trial = {1: \"Standing flexed\", 2:\"Sitting\", 3: \"Sitting relaxed\"}\n",
    "cfg_visit = {1:\"Inital\", 2:\"14-days\"}\n",
    "\n",
    "idx_axis_oi = peaks[\"axis\"] == \"y\"\n",
    "idx_task_oi = peaks[\"task\"] == \"Sitting flexed\"\n",
    "idx_visit_oi = peaks[\"visit\"] != \"Follow-up\"\n",
    "peaks.head()"
   ]
  },
  {
   "cell_type": "code",
   "execution_count": 37,
   "metadata": {},
   "outputs": [
    {
     "name": "stderr",
     "output_type": "stream",
     "text": [
      "C:\\Users\\User\\AppData\\Local\\Temp\\ipykernel_12924\\3338683340.py:17: SettingWithCopyWarning: \n",
      "A value is trying to be set on a copy of a slice from a DataFrame\n",
      "\n",
      "See the caveats in the documentation: https://pandas.pydata.org/pandas-docs/stable/user_guide/indexing.html#returning-a-view-versus-a-copy\n",
      "  sumed_axis[\"Norm amp\"][i] = sumed_axis[\"peak amplitude\"][i] / np.sum(sumed_axis[\"peak amplitude\"][idx_id])\n",
      "C:\\Users\\User\\AppData\\Local\\Temp\\ipykernel_12924\\3338683340.py:18: SettingWithCopyWarning: \n",
      "A value is trying to be set on a copy of a slice from a DataFrame\n",
      "\n",
      "See the caveats in the documentation: https://pandas.pydata.org/pandas-docs/stable/user_guide/indexing.html#returning-a-view-versus-a-copy\n",
      "  sumed_axis[\"Norm freq\"][i] = sumed_axis[\"peak frequency\"][i] / np.sum(sumed_axis[\"peak frequency\"][idx_id])\n"
     ]
    }
   ],
   "source": [
    "# assign group\n",
    "group = pd.melt(group_asgn, value_name=\"id\").dropna()\n",
    "peaks_group = pd.merge(peaks, group, on=\"id\", how=\"outer\")\n",
    "\n",
    "idx_visit_oi = peaks_group[\"visit\"] != \"Follow-up\"\n",
    "data_oi = peaks_group[idx_visit_oi]\n",
    "data_oi = data_oi.groupby('id').filter(lambda x: {\"Inital\",\"14-days\"}.issubset(x['visit']))\n",
    "data_oi = data_oi.rename(columns={\"variable\": \"group\"})\n",
    "sumed_axis = data_oi.groupby(['id','visit','group','task'],as_index=False)[[\"peak amplitude\",\"peak frequency\"]].sum()\n",
    "\n",
    "n_rows = sumed_axis.shape[0]\n",
    "sumed_axis[\"Norm amp\"] = np.nan\n",
    "sumed_axis[\"Norm freq\"] = np.nan\n",
    "\n",
    "for i in range(0,n_rows):\n",
    "    idx_id = sumed_axis[\"id\"].str.match(sumed_axis[\"id\"][i])\n",
    "    sumed_axis[\"Norm amp\"][i] = sumed_axis[\"peak amplitude\"][i] / np.sum(sumed_axis[\"peak amplitude\"][idx_id])\n",
    "    sumed_axis[\"Norm freq\"][i] = sumed_axis[\"peak frequency\"][i] / np.sum(sumed_axis[\"peak frequency\"][idx_id])\n",
    "    \n",
    "sumed_axis.to_csv(Path.joinpath(dir_prep,\"group_anova.csv\"))"
   ]
  },
  {
   "cell_type": "code",
   "execution_count": 28,
   "metadata": {},
   "outputs": [
    {
     "name": "stdout",
     "output_type": "stream",
     "text": [
      "Diff amp is nan; Diff freq is nan;\n"
     ]
    }
   ],
   "source": [
    "t_amp,p_amp, t_freq, p_freq = compute_repeated_stats(peaks,\"Sitting releaxed\")\n",
    "print(f\"Diff amp is {p_amp:.3f}; Diff freq is {p_freq:.3f};\")"
   ]
  }
 ],
 "metadata": {
  "kernelspec": {
   "display_name": "Python 3.10.6 ('venv_tremor_music')",
   "language": "python",
   "name": "python3"
  },
  "language_info": {
   "codemirror_mode": {
    "name": "ipython",
    "version": 3
   },
   "file_extension": ".py",
   "mimetype": "text/x-python",
   "name": "python",
   "nbconvert_exporter": "python",
   "pygments_lexer": "ipython3",
   "version": "3.10.6"
  },
  "orig_nbformat": 4,
  "vscode": {
   "interpreter": {
    "hash": "5db139f2e53421a5bfb46b10c76a670b4a62a93b7a9066822b72e86fa1523537"
   }
  }
 },
 "nbformat": 4,
 "nbformat_minor": 2
}
