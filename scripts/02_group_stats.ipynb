{
 "cells": [
  {
   "cell_type": "code",
   "execution_count": 1,
   "metadata": {},
   "outputs": [],
   "source": [
    "%reload_ext autoreload\n",
    "%autoreload 2\n",
    "\n",
    "import warnings\n",
    "warnings.filterwarnings('ignore')\n",
    "\n",
    "from pathlib import Path\n",
    "import numpy as np\n",
    "import matplotlib.pyplot as plt\n",
    "from scipy import stats\n",
    "import seaborn as sns\n",
    "import pandas as pd\n",
    "from tqdm import tqdm\n",
    "\n",
    "# Increase the resolution of all the plots below\n",
    "plt.rcParams.update({\"figure.dpi\": 200,\"figure.facecolor\":\"w\",\"figure.figsize\": (15,10)})\n",
    "\n",
    "# import helper functions\n",
    "from src.utls import compute_repeated_stats"
   ]
  },
  {
   "cell_type": "code",
   "execution_count": 2,
   "metadata": {},
   "outputs": [
    {
     "name": "stdout",
     "output_type": "stream",
     "text": [
      "c:\\Users\\User\\Desktop\\kiel\\tremor_music_ap\\data\n"
     ]
    }
   ],
   "source": [
    "# (import) helper functions\n",
    "dir_proj = Path(\"__file__\").absolute().parents[1]\n",
    "dir_rawdata = Path.joinpath(dir_proj, \"data\")\n",
    "dir_prep = Path.joinpath(dir_proj,\"results\")\n",
    "print(dir_rawdata)\n"
   ]
  },
  {
   "cell_type": "code",
   "execution_count": 3,
   "metadata": {},
   "outputs": [],
   "source": [
    "# load data\n",
    "pd.read_csv(Path.joinpath(dir_prep,\"single_subj_pow.csv\"))\n",
    "peaks = pd.read_csv(Path.joinpath(dir_prep,\"single_subj_agg.csv\"))\n",
    "group_asgn = pd.read_excel(Path.joinpath(dir_rawdata,\"group_assign.xlsx\"), index_col=None)"
   ]
  },
  {
   "cell_type": "code",
   "execution_count": 4,
   "metadata": {},
   "outputs": [
    {
     "data": {
      "text/html": [
       "<div>\n",
       "<style scoped>\n",
       "    .dataframe tbody tr th:only-of-type {\n",
       "        vertical-align: middle;\n",
       "    }\n",
       "\n",
       "    .dataframe tbody tr th {\n",
       "        vertical-align: top;\n",
       "    }\n",
       "\n",
       "    .dataframe thead th {\n",
       "        text-align: right;\n",
       "    }\n",
       "</style>\n",
       "<table border=\"1\" class=\"dataframe\">\n",
       "  <thead>\n",
       "    <tr style=\"text-align: right;\">\n",
       "      <th></th>\n",
       "      <th>id</th>\n",
       "      <th>visit</th>\n",
       "      <th>task</th>\n",
       "      <th>axis</th>\n",
       "      <th>peak frequency</th>\n",
       "      <th>peak amplitude</th>\n",
       "    </tr>\n",
       "  </thead>\n",
       "  <tbody>\n",
       "    <tr>\n",
       "      <th>0</th>\n",
       "      <td>BS0068</td>\n",
       "      <td>Inital</td>\n",
       "      <td>Standing flexed</td>\n",
       "      <td>x</td>\n",
       "      <td>5.865385</td>\n",
       "      <td>9544.121503</td>\n",
       "    </tr>\n",
       "    <tr>\n",
       "      <th>1</th>\n",
       "      <td>BS0068</td>\n",
       "      <td>Inital</td>\n",
       "      <td>Standing flexed</td>\n",
       "      <td>y</td>\n",
       "      <td>5.865385</td>\n",
       "      <td>373.978677</td>\n",
       "    </tr>\n",
       "    <tr>\n",
       "      <th>2</th>\n",
       "      <td>BS0068</td>\n",
       "      <td>Inital</td>\n",
       "      <td>Standing flexed</td>\n",
       "      <td>z</td>\n",
       "      <td>5.865385</td>\n",
       "      <td>162159.434519</td>\n",
       "    </tr>\n",
       "    <tr>\n",
       "      <th>3</th>\n",
       "      <td>BS0068</td>\n",
       "      <td>Inital</td>\n",
       "      <td>Sitting flexed</td>\n",
       "      <td>x</td>\n",
       "      <td>5.288462</td>\n",
       "      <td>3445.162849</td>\n",
       "    </tr>\n",
       "    <tr>\n",
       "      <th>4</th>\n",
       "      <td>BS0068</td>\n",
       "      <td>Inital</td>\n",
       "      <td>Sitting flexed</td>\n",
       "      <td>y</td>\n",
       "      <td>5.000000</td>\n",
       "      <td>450.935236</td>\n",
       "    </tr>\n",
       "  </tbody>\n",
       "</table>\n",
       "</div>"
      ],
      "text/plain": [
       "       id   visit             task axis  peak frequency  peak amplitude\n",
       "0  BS0068  Inital  Standing flexed    x        5.865385     9544.121503\n",
       "1  BS0068  Inital  Standing flexed    y        5.865385      373.978677\n",
       "2  BS0068  Inital  Standing flexed    z        5.865385   162159.434519\n",
       "3  BS0068  Inital   Sitting flexed    x        5.288462     3445.162849\n",
       "4  BS0068  Inital   Sitting flexed    y        5.000000      450.935236"
      ]
     },
     "execution_count": 4,
     "metadata": {},
     "output_type": "execute_result"
    }
   ],
   "source": [
    "# define cfg vars\n",
    "cfg_srate = 100\n",
    "cfg_group = {1:\"Standard & exp. music\", 2:\"Standard & unspecific music\", 3: \"Only Standard\", 4: \"Placebo\"}\n",
    "cfg_trial = {1: \"Standing flexed\", 2:\"Sitting\", 3: \"Sitting relaxed\"}\n",
    "cfg_visit = {1:\"Inital\", 2:\"14-days\"}\n",
    "\n",
    "idx_axis_oi = peaks[\"axis\"] == \"y\"\n",
    "idx_task_oi = peaks[\"task\"] == \"Sitting flexed\"\n",
    "idx_visit_oi = peaks[\"visit\"] != \"Follow-up\"\n",
    "peaks.head()"
   ]
  },
  {
   "cell_type": "code",
   "execution_count": 5,
   "metadata": {},
   "outputs": [],
   "source": [
    "# assign group\n",
    "group = pd.melt(group_asgn, value_name=\"id\").dropna()\n",
    "peaks_group = pd.merge(peaks, group, on=\"id\", how=\"outer\")\n",
    "\n",
    "idx_visit_oi = peaks_group[\"visit\"] != \"Follow-up\"\n",
    "data_oi = peaks_group[idx_visit_oi]\n",
    "data_oi = data_oi.groupby('id').filter(lambda x: {\"Inital\",\"14-days\"}.issubset(x['visit']))\n",
    "data_oi = data_oi.rename(columns={\"variable\": \"group\"})\n",
    "sumed_axis = data_oi.groupby(['id','visit','group','task'],as_index=False)[[\"peak amplitude\",\"peak frequency\"]].sum()\n",
    "\n",
    "n_rows = sumed_axis.shape[0]\n",
    "sumed_axis[\"Norm amp\"] = np.nan\n",
    "sumed_axis[\"Norm freq\"] = np.nan\n",
    "\n",
    "for i in range(0,n_rows):\n",
    "    idx_id = sumed_axis[\"id\"].str.match(sumed_axis[\"id\"][i])\n",
    "    sumed_axis[\"Norm amp\"][i] = sumed_axis[\"peak amplitude\"][i] / np.nanmax(sumed_axis[\"peak amplitude\"][idx_id])\n",
    "    sumed_axis[\"Norm freq\"][i] = sumed_axis[\"peak frequency\"][i] / np.nanmax(sumed_axis[\"peak frequency\"][idx_id])\n",
    "    \n",
    "sumed_axis.to_csv(Path.joinpath(dir_prep,\"group_anova.csv\"))"
   ]
  },
  {
   "cell_type": "code",
   "execution_count": 6,
   "metadata": {},
   "outputs": [
    {
     "name": "stdout",
     "output_type": "stream",
     "text": [
      "Diff amp is 0.039; Diff freq is 0.549;\n"
     ]
    }
   ],
   "source": [
    "t_amp,p_amp, t_freq, p_freq = compute_repeated_stats(peaks,\"Sitting relaxed\")\n",
    "print(f\"Diff amp is {p_amp:.3f}; Diff freq is {p_freq:.3f};\")"
   ]
  },
  {
   "cell_type": "markdown",
   "metadata": {},
   "source": [
    "## rmANOVA split for task"
   ]
  },
  {
   "cell_type": "code",
   "execution_count": 7,
   "metadata": {},
   "outputs": [],
   "source": [
    "from statsmodels.stats.anova import AnovaRM\n",
    "\n",
    "dat_sit_relx = sumed_axis[sumed_axis[\"task\"] == \"Sitting relaxed\"]\n",
    "dat_sit_relx = dat_sit_relx.append(dat_sit_relx[-6:-4],ignore_index=True)\n"
   ]
  },
  {
   "cell_type": "code",
   "execution_count": 8,
   "metadata": {},
   "outputs": [
    {
     "data": {
      "text/plain": [
       "visit    group             \n",
       "14-days  CONTROL GROUP 1       10\n",
       "         CONTROL GROUP 2       10\n",
       "         EXPERIMENTAL GROUP    10\n",
       "         PLACEBO GROUP         10\n",
       "Inital   CONTROL GROUP 1       10\n",
       "         CONTROL GROUP 2       10\n",
       "         EXPERIMENTAL GROUP    10\n",
       "         PLACEBO GROUP         10\n",
       "Name: id, dtype: int64"
      ]
     },
     "execution_count": 8,
     "metadata": {},
     "output_type": "execute_result"
    }
   ],
   "source": [
    "#check if groups are balanced for statsmodel\n",
    "dat_sit_relx.groupby([\"visit\",\"group\"])[\"id\"].count()"
   ]
  },
  {
   "cell_type": "code",
   "execution_count": 9,
   "metadata": {},
   "outputs": [
    {
     "data": {
      "text/html": [
       "<div>\n",
       "<style scoped>\n",
       "    .dataframe tbody tr th:only-of-type {\n",
       "        vertical-align: middle;\n",
       "    }\n",
       "\n",
       "    .dataframe tbody tr th {\n",
       "        vertical-align: top;\n",
       "    }\n",
       "\n",
       "    .dataframe thead th {\n",
       "        text-align: right;\n",
       "    }\n",
       "</style>\n",
       "<table border=\"1\" class=\"dataframe\">\n",
       "  <thead>\n",
       "    <tr style=\"text-align: right;\">\n",
       "      <th></th>\n",
       "      <th>id</th>\n",
       "      <th>visit</th>\n",
       "      <th>group</th>\n",
       "      <th>task</th>\n",
       "      <th>peak amplitude</th>\n",
       "      <th>peak frequency</th>\n",
       "      <th>Norm amp</th>\n",
       "      <th>Norm freq</th>\n",
       "    </tr>\n",
       "  </thead>\n",
       "  <tbody>\n",
       "    <tr>\n",
       "      <th>0</th>\n",
       "      <td>BS0068</td>\n",
       "      <td>14-days</td>\n",
       "      <td>CONTROL GROUP 2</td>\n",
       "      <td>Sitting relaxed</td>\n",
       "      <td>60.405491</td>\n",
       "      <td>15.480769</td>\n",
       "      <td>0.000351</td>\n",
       "      <td>0.805000</td>\n",
       "    </tr>\n",
       "    <tr>\n",
       "      <th>1</th>\n",
       "      <td>BS0068</td>\n",
       "      <td>Inital</td>\n",
       "      <td>CONTROL GROUP 2</td>\n",
       "      <td>Sitting relaxed</td>\n",
       "      <td>121.524394</td>\n",
       "      <td>14.791667</td>\n",
       "      <td>0.000706</td>\n",
       "      <td>0.769167</td>\n",
       "    </tr>\n",
       "    <tr>\n",
       "      <th>2</th>\n",
       "      <td>BS0253</td>\n",
       "      <td>14-days</td>\n",
       "      <td>CONTROL GROUP 1</td>\n",
       "      <td>Sitting relaxed</td>\n",
       "      <td>10.855155</td>\n",
       "      <td>17.916667</td>\n",
       "      <td>0.001276</td>\n",
       "      <td>0.900161</td>\n",
       "    </tr>\n",
       "    <tr>\n",
       "      <th>3</th>\n",
       "      <td>BS0253</td>\n",
       "      <td>Inital</td>\n",
       "      <td>CONTROL GROUP 1</td>\n",
       "      <td>Sitting relaxed</td>\n",
       "      <td>39.026555</td>\n",
       "      <td>15.576923</td>\n",
       "      <td>0.004586</td>\n",
       "      <td>0.782609</td>\n",
       "    </tr>\n",
       "    <tr>\n",
       "      <th>4</th>\n",
       "      <td>BS0264</td>\n",
       "      <td>14-days</td>\n",
       "      <td>EXPERIMENTAL GROUP</td>\n",
       "      <td>Sitting relaxed</td>\n",
       "      <td>31.463395</td>\n",
       "      <td>19.230769</td>\n",
       "      <td>0.001389</td>\n",
       "      <td>0.916530</td>\n",
       "    </tr>\n",
       "  </tbody>\n",
       "</table>\n",
       "</div>"
      ],
      "text/plain": [
       "       id    visit               group             task  peak amplitude  \\\n",
       "0  BS0068  14-days     CONTROL GROUP 2  Sitting relaxed       60.405491   \n",
       "1  BS0068   Inital     CONTROL GROUP 2  Sitting relaxed      121.524394   \n",
       "2  BS0253  14-days     CONTROL GROUP 1  Sitting relaxed       10.855155   \n",
       "3  BS0253   Inital     CONTROL GROUP 1  Sitting relaxed       39.026555   \n",
       "4  BS0264  14-days  EXPERIMENTAL GROUP  Sitting relaxed       31.463395   \n",
       "\n",
       "   peak frequency  Norm amp  Norm freq  \n",
       "0       15.480769  0.000351   0.805000  \n",
       "1       14.791667  0.000706   0.769167  \n",
       "2       17.916667  0.001276   0.900161  \n",
       "3       15.576923  0.004586   0.782609  \n",
       "4       19.230769  0.001389   0.916530  "
      ]
     },
     "execution_count": 9,
     "metadata": {},
     "output_type": "execute_result"
    }
   ],
   "source": [
    "dat_sit_relx.head()"
   ]
  },
  {
   "cell_type": "code",
   "execution_count": 10,
   "metadata": {},
   "outputs": [
    {
     "name": "stdout",
     "output_type": "stream",
     "text": [
      "               Anova\n",
      "===================================\n",
      "      F Value Num DF  Den DF Pr > F\n",
      "-----------------------------------\n",
      "visit  4.7101 1.0000 38.0000 0.0363\n",
      "===================================\n",
      "\n",
      "A one-way repeated measures ANOVA was conducted on 39 individuals to examine the effect of music therapy on tremor amplitude.\n",
      "Results showed that the treatment of therapy lead to statistically significant differences in tremor amplitude (F(1, 38) = 4.71, p = 0.036\n"
     ]
    }
   ],
   "source": [
    "dat_rmanova = dat_sit_relx[[\"id\",\"visit\",\"Norm amp\"]].copy()\n",
    "\n",
    "aovrm1way = AnovaRM(dat_rmanova, 'Norm amp', 'id', within=['visit'], aggregate_func='mean')\n",
    "res1way = aovrm1way.fit()\n",
    "\n",
    "print(res1way)\n",
    "\n",
    "n = dat_rmanova[\"id\"].nunique()\n",
    "print(f\"A one-way repeated measures ANOVA was conducted on {n:2d} individuals to examine the effect of music therapy on tremor amplitude.\")\n",
    "print(f\"Results showed that the treatment of therapy lead to statistically significant differences in tremor amplitude (F(1, {n-1:2d}) = 4.71, p = 0.036\")"
   ]
  },
  {
   "cell_type": "markdown",
   "metadata": {},
   "source": [
    "### Check ANOVA assumptions"
   ]
  },
  {
   "cell_type": "code",
   "execution_count": 12,
   "metadata": {},
   "outputs": [
    {
     "data": {
      "text/html": [
       "<div>\n",
       "<style scoped>\n",
       "    .dataframe tbody tr th:only-of-type {\n",
       "        vertical-align: middle;\n",
       "    }\n",
       "\n",
       "    .dataframe tbody tr th {\n",
       "        vertical-align: top;\n",
       "    }\n",
       "\n",
       "    .dataframe thead th {\n",
       "        text-align: right;\n",
       "    }\n",
       "</style>\n",
       "<table border=\"1\" class=\"dataframe\">\n",
       "  <thead>\n",
       "    <tr style=\"text-align: right;\">\n",
       "      <th></th>\n",
       "      <th>Parameter</th>\n",
       "      <th>Value</th>\n",
       "    </tr>\n",
       "  </thead>\n",
       "  <tbody>\n",
       "    <tr>\n",
       "      <th>0</th>\n",
       "      <td>Test statistics (T)</td>\n",
       "      <td>7.0707</td>\n",
       "    </tr>\n",
       "    <tr>\n",
       "      <th>1</th>\n",
       "      <td>Degrees of freedom (Df)</td>\n",
       "      <td>3.0000</td>\n",
       "    </tr>\n",
       "    <tr>\n",
       "      <th>2</th>\n",
       "      <td>p value</td>\n",
       "      <td>0.0697</td>\n",
       "    </tr>\n",
       "  </tbody>\n",
       "</table>\n",
       "</div>"
      ],
      "text/plain": [
       "                 Parameter   Value\n",
       "0      Test statistics (T)  7.0707\n",
       "1  Degrees of freedom (Df)  3.0000\n",
       "2                  p value  0.0697"
      ]
     },
     "execution_count": 12,
     "metadata": {},
     "output_type": "execute_result"
    }
   ],
   "source": [
    "# Bartletts test for normal distribution\n",
    "\n",
    "from bioinfokit.analys import stat \n",
    "res = stat()\n",
    "res.bartlett(df=dat_sit_relx, res_var='Norm amp', xfac_var='group')\n",
    "res.bartlett_summary"
   ]
  },
  {
   "cell_type": "code",
   "execution_count": null,
   "metadata": {},
   "outputs": [],
   "source": [
    "from bioinfokit.analys import stat \n",
    "res = stat()\n",
    "res.levene(df=df_melt, res_var='value', xfac_var='treatments')\n",
    "res.levene_summary"
   ]
  },
  {
   "cell_type": "code",
   "execution_count": null,
   "metadata": {},
   "outputs": [
    {
     "name": "stdout",
     "output_type": "stream",
     "text": [
      "For the Bartletts test the p-value is 0.070\n",
      "As the p value is non significant, we conclude that data is drawn from normal distribution.\n"
     ]
    }
   ],
   "source": [
    "idx_group_exp = dat_sit_relx[\"group\"] == \"EXPERIMENTAL GROUP\"\n",
    "idx_group_c1 = dat_sit_relx[\"group\"] == \"CONTROL GROUP 1\"\n",
    "idx_group_c2 = dat_sit_relx[\"group\"] == \"CONTROL GROUP 2\"\n",
    "idx_group_pg = dat_sit_relx[\"group\"] == \"PLACEBO GROUP\"\n",
    "\n",
    "w, pvalue = stats.bartlett(dat_sit_relx[\"Norm amp\"][idx_group_exp], \n",
    "                        dat_sit_relx[\"Norm amp\"][idx_group_c1],\n",
    "                        dat_sit_relx[\"Norm amp\"][idx_group_c2],\n",
    "                        dat_sit_relx[\"Norm amp\"][idx_group_pg],)\n",
    "                        \n",
    "print(f\"For the Bartletts test the p-value is {pvalue:.3f}\")\n",
    "print(f\"As the p value is non significant, we conclude that data is drawn from normal distribution.\")"
   ]
  },
  {
   "cell_type": "code",
   "execution_count": null,
   "metadata": {},
   "outputs": [],
   "source": [
    "# if you have a stacked table, you can use bioinfokit v1.0.3 or later for the bartlett's test\n",
    "from bioinfokit.analys import stat \n",
    "res = stat()\n",
    "res.bartlett(df=df_melt, res_var='value', xfac_var='treatments')\n",
    "res.bartlett_summary"
   ]
  },
  {
   "cell_type": "code",
   "execution_count": 28,
   "metadata": {},
   "outputs": [
    {
     "data": {
      "text/plain": [
       "<AxesSubplot:xlabel='group', ylabel='Norm amp'>"
      ]
     },
     "execution_count": 28,
     "metadata": {},
     "output_type": "execute_result"
    },
    {
     "data": {
      "image/png": "[encoded data removed]",
      "text/plain": [
       "<Figure size 3000x2000 with 1 Axes>"
      ]
     },
     "metadata": {},
     "output_type": "display_data"
    }
   ],
   "source": [
    "sns.boxplot(x=\"group\", y=\"Norm amp\", hue=\"visit\", data=dat_sit_relx, palette=\"rocket\") "
   ]
  },
  {
   "cell_type": "code",
   "execution_count": 19,
   "metadata": {},
   "outputs": [
    {
     "data": {
      "text/html": [
       "<div>\n",
       "<style scoped>\n",
       "    .dataframe tbody tr th:only-of-type {\n",
       "        vertical-align: middle;\n",
       "    }\n",
       "\n",
       "    .dataframe tbody tr th {\n",
       "        vertical-align: top;\n",
       "    }\n",
       "\n",
       "    .dataframe thead th {\n",
       "        text-align: right;\n",
       "    }\n",
       "</style>\n",
       "<table border=\"1\" class=\"dataframe\">\n",
       "  <thead>\n",
       "    <tr style=\"text-align: right;\">\n",
       "      <th></th>\n",
       "      <th>df</th>\n",
       "      <th>sum_sq</th>\n",
       "      <th>mean_sq</th>\n",
       "      <th>F</th>\n",
       "      <th>PR(&gt;F)</th>\n",
       "    </tr>\n",
       "  </thead>\n",
       "  <tbody>\n",
       "    <tr>\n",
       "      <th>C(group)</th>\n",
       "      <td>3.0</td>\n",
       "      <td>1.339058</td>\n",
       "      <td>0.446353</td>\n",
       "      <td>3.881252</td>\n",
       "      <td>0.012471</td>\n",
       "    </tr>\n",
       "    <tr>\n",
       "      <th>C(visit)</th>\n",
       "      <td>1.0</td>\n",
       "      <td>0.504938</td>\n",
       "      <td>0.504938</td>\n",
       "      <td>4.390677</td>\n",
       "      <td>0.039653</td>\n",
       "    </tr>\n",
       "    <tr>\n",
       "      <th>C(group):C(visit)</th>\n",
       "      <td>3.0</td>\n",
       "      <td>0.532566</td>\n",
       "      <td>0.177522</td>\n",
       "      <td>1.543638</td>\n",
       "      <td>0.210610</td>\n",
       "    </tr>\n",
       "    <tr>\n",
       "      <th>Residual</th>\n",
       "      <td>72.0</td>\n",
       "      <td>8.280163</td>\n",
       "      <td>0.115002</td>\n",
       "      <td>NaN</td>\n",
       "      <td>NaN</td>\n",
       "    </tr>\n",
       "  </tbody>\n",
       "</table>\n",
       "</div>"
      ],
      "text/plain": [
       "                     df    sum_sq   mean_sq         F    PR(>F)\n",
       "C(group)            3.0  1.339058  0.446353  3.881252  0.012471\n",
       "C(visit)            1.0  0.504938  0.504938  4.390677  0.039653\n",
       "C(group):C(visit)   3.0  0.532566  0.177522  1.543638  0.210610\n",
       "Residual           72.0  8.280163  0.115002       NaN       NaN"
      ]
     },
     "execution_count": 19,
     "metadata": {},
     "output_type": "execute_result"
    }
   ],
   "source": [
    "dat_rmanova = dat_sit_relx[[\"id\",\"group\",\"visit\",\"Norm amp\"]].copy()\n",
    "dat_rmanova = dat_rmanova.rename(columns={\"Norm amp\": \"amp\"})\n",
    "\n",
    "# rmANOVA table using bioinfokit v1.0.3 \n",
    "from bioinfokit.analys import stat\n",
    "res = stat()\n",
    "res.anova_stat(df=dat_rmanova, res_var='amp', anova_model='amp~C(group)+C(visit)+C(group):C(visit)')\n",
    "res.anova_summary"
   ]
  },
  {
   "cell_type": "code",
   "execution_count": 25,
   "metadata": {},
   "outputs": [
    {
     "data": {
      "text/html": [
       "<div>\n",
       "<style scoped>\n",
       "    .dataframe tbody tr th:only-of-type {\n",
       "        vertical-align: middle;\n",
       "    }\n",
       "\n",
       "    .dataframe tbody tr th {\n",
       "        vertical-align: top;\n",
       "    }\n",
       "\n",
       "    .dataframe thead th {\n",
       "        text-align: right;\n",
       "    }\n",
       "</style>\n",
       "<table border=\"1\" class=\"dataframe\">\n",
       "  <thead>\n",
       "    <tr style=\"text-align: right;\">\n",
       "      <th></th>\n",
       "      <th>group1</th>\n",
       "      <th>group2</th>\n",
       "      <th>Diff</th>\n",
       "      <th>Lower</th>\n",
       "      <th>Upper</th>\n",
       "      <th>q-value</th>\n",
       "      <th>p-value</th>\n",
       "    </tr>\n",
       "  </thead>\n",
       "  <tbody>\n",
       "    <tr>\n",
       "      <th>0</th>\n",
       "      <td>14-days</td>\n",
       "      <td>Inital</td>\n",
       "      <td>0.158893</td>\n",
       "      <td>0.007729</td>\n",
       "      <td>0.310056</td>\n",
       "      <td>2.963335</td>\n",
       "      <td>0.039652</td>\n",
       "    </tr>\n",
       "  </tbody>\n",
       "</table>\n",
       "</div>"
      ],
      "text/plain": [
       "    group1  group2      Diff     Lower     Upper   q-value   p-value\n",
       "0  14-days  Inital  0.158893  0.007729  0.310056  2.963335  0.039652"
      ]
     },
     "execution_count": 25,
     "metadata": {},
     "output_type": "execute_result"
    }
   ],
   "source": [
    "res = stat()\n",
    "# for main effect Genotype\n",
    "res.tukey_hsd(df=dat_rmanova, res_var='amp', xfac_var='visit', anova_model='amp~C(group)+C(visit)+C(group):C(visit)')\n",
    "res.tukey_summary"
   ]
  }
 ],
 "metadata": {
  "kernelspec": {
   "display_name": "Python 3.10.6 ('venv_tremor_music')",
   "language": "python",
   "name": "python3"
  },
  "language_info": {
   "codemirror_mode": {
    "name": "ipython",
    "version": 3
   },
   "file_extension": ".py",
   "mimetype": "text/x-python",
   "name": "python",
   "nbconvert_exporter": "python",
   "pygments_lexer": "ipython3",
   "version": "3.10.6"
  },
  "orig_nbformat": 4,
  "vscode": {
   "interpreter": {
    "hash": "5db139f2e53421a5bfb46b10c76a670b4a62a93b7a9066822b72e86fa1523537"
   }
  }
 },
 "nbformat": 4,
 "nbformat_minor": 2
}
